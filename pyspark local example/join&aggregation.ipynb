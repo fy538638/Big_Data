{
 "cells": [
  {
   "cell_type": "code",
   "execution_count": 1,
   "metadata": {},
   "outputs": [],
   "source": [
    "# this cell is for local running; install findspark and pyspark first \n",
    "import os\n",
    "os.environ['JAVA_HOME'] = 'D:\\packages\\jdk1.8\\java-se-8u42-ri'\n",
    "\n",
    "import findspark\n",
    "findspark.init()\n",
    "\n",
    "import pyspark\n",
    "from pyspark import SparkContext\n",
    "from pyspark.sql import SparkSession\n",
    "sc = SparkContext.getOrCreate()\n",
    "spark = SparkSession.builder.appName('PySpark DataFrame From RDD').getOrCreate()"
   ]
  },
  {
   "cell_type": "markdown",
   "metadata": {},
   "source": [
    "##### orders"
   ]
  },
  {
   "cell_type": "code",
   "execution_count": 2,
   "metadata": {},
   "outputs": [
    {
     "name": "stdout",
     "output_type": "stream",
     "text": [
      "+------------+------------------+---------+---------+--------+----------+----------+----------+---------+--------+----------+---------+--------+---------+-----------------+---------+\n",
      "|SalesOrderID|SalesOrderDetailID|OrderDate|  DueDate|ShipDate|EmployeeID|CustomerID|  SubTotal|   TaxAmt| Freight|  TotalDue|ProductID|OrderQty|UnitPrice|UnitPriceDiscount|LineTotal|\n",
      "+------------+------------------+---------+---------+--------+----------+----------+----------+---------+--------+----------+---------+--------+---------+-----------------+---------+\n",
      "|       43659|                 1|5/31/2011|6/12/2011|6/7/2011|       279|      1045|20565.6206|1971.5149|616.0984|23153.2339|      776|       1| 2024.994|                0| 2024.994|\n",
      "|       43659|                 2|5/31/2011|6/12/2011|6/7/2011|       279|      1045|20565.6206|1971.5149|616.0984|23153.2339|      777|       3| 2024.994|                0| 6074.982|\n",
      "|       43659|                 3|5/31/2011|6/12/2011|6/7/2011|       279|      1045|20565.6206|1971.5149|616.0984|23153.2339|      778|       1| 2024.994|                0| 2024.994|\n",
      "+------------+------------------+---------+---------+--------+----------+----------+----------+---------+--------+----------+---------+--------+---------+-----------------+---------+\n",
      "only showing top 3 rows\n",
      "\n",
      "root\n",
      " |-- SalesOrderID: string (nullable = true)\n",
      " |-- SalesOrderDetailID: string (nullable = true)\n",
      " |-- OrderDate: string (nullable = true)\n",
      " |-- DueDate: string (nullable = true)\n",
      " |-- ShipDate: string (nullable = true)\n",
      " |-- EmployeeID: string (nullable = true)\n",
      " |-- CustomerID: string (nullable = true)\n",
      " |-- SubTotal: string (nullable = true)\n",
      " |-- TaxAmt: string (nullable = true)\n",
      " |-- Freight: string (nullable = true)\n",
      " |-- TotalDue: string (nullable = true)\n",
      " |-- ProductID: string (nullable = true)\n",
      " |-- OrderQty: string (nullable = true)\n",
      " |-- UnitPrice: string (nullable = true)\n",
      " |-- UnitPriceDiscount: string (nullable = true)\n",
      " |-- LineTotal: string (nullable = true)\n",
      "\n"
     ]
    }
   ],
   "source": [
    "order = spark.read.csv(\"orders.csv\",header=True)\n",
    "order.count()\n",
    "order.show(3)\n",
    "order.printSchema()"
   ]
  },
  {
   "cell_type": "code",
   "execution_count": 3,
   "metadata": {},
   "outputs": [
    {
     "name": "stdout",
     "output_type": "stream",
     "text": [
      "root\n",
      " |-- SalesOrderID: integer (nullable = true)\n",
      " |-- SalesOrderDetailID: integer (nullable = true)\n",
      " |-- OrderDate: string (nullable = true)\n",
      " |-- DueDate: string (nullable = true)\n",
      " |-- ShipDate: string (nullable = true)\n",
      " |-- EmployeeID: integer (nullable = true)\n",
      " |-- CustomerID: integer (nullable = true)\n",
      " |-- SubTotal: float (nullable = true)\n",
      " |-- TaxAmt: float (nullable = true)\n",
      " |-- Freight: float (nullable = true)\n",
      " |-- TotalDue: float (nullable = true)\n",
      " |-- ProductID: integer (nullable = true)\n",
      " |-- OrderQty: integer (nullable = true)\n",
      " |-- UnitPrice: float (nullable = true)\n",
      " |-- UnitPriceDiscount: float (nullable = true)\n",
      " |-- LineTotal: float (nullable = true)\n",
      "\n",
      "+------------+------------------+---------+---------+--------+----------+----------+---------+---------+--------+---------+---------+--------+---------+-----------------+---------+\n",
      "|SalesOrderID|SalesOrderDetailID|OrderDate|  DueDate|ShipDate|EmployeeID|CustomerID| SubTotal|   TaxAmt| Freight| TotalDue|ProductID|OrderQty|UnitPrice|UnitPriceDiscount|LineTotal|\n",
      "+------------+------------------+---------+---------+--------+----------+----------+---------+---------+--------+---------+---------+--------+---------+-----------------+---------+\n",
      "|       43659|                 1|5/31/2011|6/12/2011|6/7/2011|       279|      1045|20565.621|1971.5149|616.0984|23153.234|      776|       1| 2024.994|              0.0| 2024.994|\n",
      "|       43659|                 2|5/31/2011|6/12/2011|6/7/2011|       279|      1045|20565.621|1971.5149|616.0984|23153.234|      777|       3| 2024.994|              0.0| 6074.982|\n",
      "|       43659|                 3|5/31/2011|6/12/2011|6/7/2011|       279|      1045|20565.621|1971.5149|616.0984|23153.234|      778|       1| 2024.994|              0.0| 2024.994|\n",
      "|       43659|                 4|5/31/2011|6/12/2011|6/7/2011|       279|      1045|20565.621|1971.5149|616.0984|23153.234|      771|       1| 2039.994|              0.0| 2039.994|\n",
      "|       43659|                 5|5/31/2011|6/12/2011|6/7/2011|       279|      1045|20565.621|1971.5149|616.0984|23153.234|      772|       1| 2039.994|              0.0| 2039.994|\n",
      "+------------+------------------+---------+---------+--------+----------+----------+---------+---------+--------+---------+---------+--------+---------+-----------------+---------+\n",
      "only showing top 5 rows\n",
      "\n"
     ]
    }
   ],
   "source": [
    "from pyspark.sql.types import StructType,StructField, StringType, IntegerType, FloatType\n",
    "\n",
    "\n",
    "\n",
    "orders_schema = StructType([ \\\n",
    "    StructField(\"SalesOrderID\",IntegerType(),True), \\\n",
    "    StructField(\"SalesOrderDetailID\",IntegerType(),True), \\\n",
    "    StructField(\"OrderDate\",StringType(),True), \\\n",
    "    StructField(\"DueDate\", StringType(), True), \\\n",
    "    StructField(\"ShipDate\", StringType(), True), \\\n",
    "    StructField(\"EmployeeID\", IntegerType(), True), \\\n",
    "    StructField(\"CustomerID\", IntegerType(), True), \\\n",
    "    StructField(\"SubTotal\", FloatType(), True), \\\n",
    "    StructField(\"TaxAmt\", FloatType(), True), \\\n",
    "    StructField(\"Freight\",FloatType(),True), \\\n",
    "    StructField(\"TotalDue\", FloatType(), True), \\\n",
    "    StructField(\"ProductID\", IntegerType(), True), \\\n",
    "    StructField(\"OrderQty\", IntegerType(), True), \\\n",
    "    StructField(\"UnitPrice\", FloatType(), True), \\\n",
    "    StructField(\"UnitPriceDiscount\", FloatType(), True), \\\n",
    "    StructField(\"LineTotal\", FloatType(), True) \\\n",
    "  ])\n",
    "\n",
    "orders = spark.read.csv(\"orders.csv\",header=True,schema=orders_schema)\n",
    "orders.printSchema()\n",
    "orders.show(5)"
   ]
  },
  {
   "cell_type": "markdown",
   "metadata": {},
   "source": [
    "##### products"
   ]
  },
  {
   "cell_type": "code",
   "execution_count": 4,
   "metadata": {},
   "outputs": [
    {
     "name": "stdout",
     "output_type": "stream",
     "text": [
      "+---------+-------------+--------------------+-------------+--------+------------+---------+-------------+\n",
      "|ProductID|ProductNumber|         ProductName|    ModelName|MakeFlag|StandardCost|ListPrice|SubCategoryID|\n",
      "+---------+-------------+--------------------+-------------+--------+------------+---------+-------------+\n",
      "|      680|   FR-R92B-58|HL Road Frame - B...|HL Road Frame|       1|     1059.31|   1431.5|           14|\n",
      "|      706|   FR-R92R-58|HL Road Frame - R...|HL Road Frame|       1|     1059.31|   1431.5|           14|\n",
      "|      707|    HL-U509-R|Sport-100 Helmet,...|    Sport-100|       0|     13.0863|    34.99|           31|\n",
      "+---------+-------------+--------------------+-------------+--------+------------+---------+-------------+\n",
      "only showing top 3 rows\n",
      "\n",
      "root\n",
      " |-- ProductID: string (nullable = true)\n",
      " |-- ProductNumber: string (nullable = true)\n",
      " |-- ProductName: string (nullable = true)\n",
      " |-- ModelName: string (nullable = true)\n",
      " |-- MakeFlag: string (nullable = true)\n",
      " |-- StandardCost: string (nullable = true)\n",
      " |-- ListPrice: string (nullable = true)\n",
      " |-- SubCategoryID: string (nullable = true)\n",
      "\n"
     ]
    }
   ],
   "source": [
    "product = spark.read.csv(\"products.csv\",header=True)\n",
    "product.count()\n",
    "product.show(3)\n",
    "product.printSchema()"
   ]
  },
  {
   "cell_type": "code",
   "execution_count": 5,
   "metadata": {},
   "outputs": [
    {
     "name": "stdout",
     "output_type": "stream",
     "text": [
      "root\n",
      " |-- ProductID: integer (nullable = true)\n",
      " |-- ProductNumber: string (nullable = true)\n",
      " |-- ProductName: string (nullable = true)\n",
      " |-- ModelName: string (nullable = true)\n",
      " |-- MakeFlag: integer (nullable = true)\n",
      " |-- StandardCost: float (nullable = true)\n",
      " |-- ListPrice: float (nullable = true)\n",
      " |-- SubCategoryID: integer (nullable = true)\n",
      "\n",
      "+---------+-------------+--------------------+-------------------+--------+------------+---------+-------------+\n",
      "|ProductID|ProductNumber|         ProductName|          ModelName|MakeFlag|StandardCost|ListPrice|SubCategoryID|\n",
      "+---------+-------------+--------------------+-------------------+--------+------------+---------+-------------+\n",
      "|      680|   FR-R92B-58|HL Road Frame - B...|      HL Road Frame|       1|     1059.31|   1431.5|           14|\n",
      "|      706|   FR-R92R-58|HL Road Frame - R...|      HL Road Frame|       1|     1059.31|   1431.5|           14|\n",
      "|      707|    HL-U509-R|Sport-100 Helmet,...|          Sport-100|       0|     13.0863|    34.99|           31|\n",
      "|      708|      HL-U509|Sport-100 Helmet,...|          Sport-100|       0|     13.0863|    34.99|           31|\n",
      "|      709|    SO-B909-M|Mountain Bike Soc...|Mountain Bike Socks|       0|      3.3963|      9.5|           23|\n",
      "+---------+-------------+--------------------+-------------------+--------+------------+---------+-------------+\n",
      "only showing top 5 rows\n",
      "\n"
     ]
    }
   ],
   "source": [
    "products_schema = StructType([ \\\n",
    "    StructField(\"ProductID\",IntegerType(),True), \\\n",
    "    StructField(\"ProductNumber\",StringType(),True), \\\n",
    "    StructField(\"ProductName\", StringType(), True), \\\n",
    "    StructField(\"ModelName\", StringType(), True), \\\n",
    "    StructField(\"MakeFlag\", IntegerType(), True), \\\n",
    "    StructField(\"StandardCost\", FloatType(), True), \\\n",
    "    StructField(\"ListPrice\", FloatType(), True), \\\n",
    "    StructField(\"SubCategoryID\", IntegerType(), True) \\\n",
    "  ])\n",
    "\n",
    "products = spark.read.csv(\"products.csv\",header=True,schema=products_schema)\n",
    "products.printSchema()\n",
    "products.show(5)\n"
   ]
  },
  {
   "cell_type": "markdown",
   "metadata": {},
   "source": [
    "##### join, groupby, aggregate"
   ]
  },
  {
   "cell_type": "code",
   "execution_count": 6,
   "metadata": {},
   "outputs": [
    {
     "name": "stdout",
     "output_type": "stream",
     "text": [
      "+-------------+------------------+\n",
      "|ProductNumber|    sum(LineTotal)|\n",
      "+-------------+------------------+\n",
      "|   BK-R50B-48|265393.33514404297|\n",
      "|   BK-R68R-60| 306177.9055786133|\n",
      "|      HB-T928|12087.240280151367|\n",
      "|    TG-W091-L| 94090.64196395874|\n",
      "|   FR-M63B-44|129529.46362304688|\n",
      "|   FR-M94B-42| 901590.2377929688|\n",
      "|    SH-M897-S| 20364.99729537964|\n",
      "+-------------+------------------+\n",
      "only showing top 7 rows\n",
      "\n"
     ]
    }
   ],
   "source": [
    "df=orders.join(products,orders.ProductID==products.ProductID,'inner')\n",
    "\n",
    "df.groupby('ProductNumber').sum('LineTotal').show(7)"
   ]
  }
 ],
 "metadata": {
  "kernelspec": {
   "display_name": "Python 3 (ipykernel)",
   "language": "python",
   "name": "python3"
  },
  "language_info": {
   "codemirror_mode": {
    "name": "ipython",
    "version": 3
   },
   "file_extension": ".py",
   "mimetype": "text/x-python",
   "name": "python",
   "nbconvert_exporter": "python",
   "pygments_lexer": "ipython3",
   "version": "3.9.7"
  },
  "vscode": {
   "interpreter": {
    "hash": "5179d32cf6ec497baf3f8a3ef987cc77c5d2dc691fdde20a56316522f61a7323"
   }
  }
 },
 "nbformat": 4,
 "nbformat_minor": 2
}
